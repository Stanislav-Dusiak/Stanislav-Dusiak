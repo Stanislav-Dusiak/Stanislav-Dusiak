{
 "cells": [
  {
   "cell_type": "code",
   "execution_count": null,
   "metadata": {},
   "outputs": [],
   "source": [
    "\"\"\"Data(https://stepik.org/media/attachments/course/4852/training_mush.csv) \n",
    "about the edibility of mushrooms for part of the tasks. \n",
    "Taken (https://www.kaggle.com/uciml/mushroom-classification#mushrooms.csv), \n",
    "all categorical variables were encoded with numbers for simplicity.\n",
    "Go through the parameters using GridSearchCV and train Random Forest on the data. \n",
    "Pass the model to GridSearchCV specifying random_state=0.\n",
    "Predict the edibility of these mushrooms and write in the answer the number of inedible mushrooms. \n",
    "Create a confusion matrix based on the predictions you received and the correct answers. \n",
    "Choose the correct one from the suggested options\"\"\""
   ]
  },
  {
   "cell_type": "code",
   "execution_count": null,
   "metadata": {},
   "outputs": [],
   "source": [
    "%matplotlib notebook\n",
    "from sklearn.model_selection import GridSearchCV\n",
    "from sklearn.ensemble import RandomForestClassifier\n",
    "import pandas as pd\n",
    "data = pd.read_csv('~/Downloads/training_mush.csv')\n",
    "test = pd.read_csv('~/Downloads/testing_mush.csv')\n",
    "X_train = data.drop(['class'], axis=1)\n",
    "y_train = data.pop('class')\n",
    "X_test = test\n",
    "Forest = RandomForestClassifier(random_state=0)\n",
    "params = {'n_estimators': range(10, 50, 10), 'max_depth': range(1, 12, 2), 'min_samples_leaf': range(1, 7), 'min_samples_split': range(2, 9, 2)}\n",
    "clf = GridSearchCV(Forest, params, cv=3)\n",
    "clf.fit(X_train, y_train)\n",
    "best_clf = clf.best_estimator_\n",
    "y_pred = best_clf.predict(X_test)"
   ]
  },
  {
   "cell_type": "code",
   "execution_count": null,
   "metadata": {},
   "outputs": [],
   "source": [
    "pd.Series(y_pred).value_counts()"
   ]
  },
  {
   "cell_type": "code",
   "execution_count": null,
   "metadata": {},
   "outputs": [],
   "source": [
    "from sklearn.metrics import plot_confusion_matrix\n",
    "plot_confusion_matrix(best_clf, X_test, y_pred)"
   ]
  }
 ],
 "metadata": {
  "kernelspec": {
   "display_name": "Python 3",
   "language": "python",
   "name": "python3"
  },
  "language_info": {
   "codemirror_mode": {
    "name": "ipython",
    "version": 3
   },
   "file_extension": ".py",
   "mimetype": "text/x-python",
   "name": "python",
   "nbconvert_exporter": "python",
   "pygments_lexer": "ipython3",
   "version": "3.6.9"
  }
 },
 "nbformat": 4,
 "nbformat_minor": 4
}
